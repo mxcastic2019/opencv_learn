{
 "cells": [
  {
   "cell_type": "code",
   "execution_count": 13,
   "metadata": {},
   "outputs": [
    {
     "name": "stdout",
     "output_type": "stream",
     "text": [
      "hello world\n"
     ]
    }
   ],
   "source": [
    "print('hello world')"
   ]
  },
  {
   "cell_type": "code",
   "execution_count": 21,
   "metadata": {
    "scrolled": true
   },
   "outputs": [
    {
     "name": "stdout",
     "output_type": "stream",
     "text": [
      "hello world2\n"
     ]
    }
   ],
   "source": [
    "print('hello world2')"
   ]
  },
  {
   "cell_type": "markdown",
   "metadata": {},
   "source": [
    "# hello world\n",
    "## hello world\n",
    "### hello world"
   ]
  },
  {
   "cell_type": "markdown",
   "metadata": {},
   "source": []
  },
  {
   "cell_type": "code",
   "execution_count": 15,
   "metadata": {},
   "outputs": [],
   "source": [
    "import numpy as np\n",
    "import cv2\n",
    "img1 = cv2.imread('msrc01.jpg')\n",
    "img2 = cv2.imread('msrc02.jpg')\n",
    "img3 = cv2.imread('msrc03.jpg')\n",
    "img4 = cv2.imread('msrc04.jpg')\n",
    "cv2.imshow('1',img1)\n",
    "cv2.waitKey(0)\n",
    "cv2.imshow('1',img2)\n",
    "cv2.waitKey(0)\n",
    "cv2.imshow('1',img3)\n",
    "cv2.waitKey(0)\n",
    "cv2.imshow('1',img4)\n",
    "cv2.waitKey(0)\n",
    "cv2.destroyAllWindows()"
   ]
  },
  {
   "cell_type": "code",
   "execution_count": 6,
   "metadata": {},
   "outputs": [
    {
     "name": "stdout",
     "output_type": "stream",
     "text": [
      "hi\n"
     ]
    }
   ],
   "source": [
    "print('hi')"
   ]
  },
  {
   "cell_type": "code",
   "execution_count": 64,
   "metadata": {},
   "outputs": [],
   "source": [
    "import numpy as np\n",
    "import cv2\n",
    "import random\n",
    "face = cv2.imread('face.jpg')\n",
    "vid = cv2.VideoCapture(1)\n",
    "pd = cv2.imread('msrc04.jpg')\n",
    "cn = random.randint(1,2)\n",
    "cf = \"cloth\"+str(cn)+\".jpg\"\n",
    "pf = \"pants\"+str(cn)+\".jpg\"\n",
    "hf = \"hat\"+str(cn)+\".jpg\"\n",
    "cloth = cv2.imread(cf)\n",
    "pants = cv2.imread(pf)\n",
    "hat = cv2.imread(hf)\n",
    "while(True):\n",
    "    ret, frame = vid.read()\n",
    "    cv2.imshow('video',frame)\n",
    "    if cv2.waitKey(0):\n",
    "        break\n",
    "vid.release\n",
    "cv2.destroyAllWindows()\n",
    "res1 = cv2.resize(cloth,(150,150),interpolation=cv2.INTER_CUBIC)\n",
    "res2 = cv2.resize(pants,(150,150),interpolation=cv2.INTER_CUBIC)\n",
    "res3 = cv2.resize(hat,(100,100),interpolation=cv2.INTER_CUBIC)\n",
    "pd[490:660,425:595] = face[0:170,0:170]\n",
    "res = cv2.resize(pd,(600,800),interpolation=cv2.INTER_CUBIC)\n",
    "res[340:490,215:365] = res1[0:150,0:150]\n",
    "res[410:560,215:365] = res2[0:150,0:150]\n",
    "res[150:250,240:340] = res3[0:100,0:100]\n",
    "cv2.imshow('result',res)\n",
    "cv2.waitKey(0) \n",
    "cv2.destroyAllWindows()"
   ]
  },
  {
   "cell_type": "code",
   "execution_count": null,
   "metadata": {},
   "outputs": [],
   "source": []
  }
 ],
 "metadata": {
  "kernelspec": {
   "display_name": "Python 3",
   "language": "python",
   "name": "python3"
  },
  "language_info": {
   "codemirror_mode": {
    "name": "ipython",
    "version": 3
   },
   "file_extension": ".py",
   "mimetype": "text/x-python",
   "name": "python",
   "nbconvert_exporter": "python",
   "pygments_lexer": "ipython3",
   "version": "3.6.5"
  }
 },
 "nbformat": 4,
 "nbformat_minor": 2
}
